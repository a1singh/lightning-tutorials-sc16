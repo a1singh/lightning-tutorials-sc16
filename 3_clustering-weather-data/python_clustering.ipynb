{
 "cells": [
  {
   "cell_type": "code",
   "execution_count": 124,
   "metadata": {
    "collapsed": false
   },
   "outputs": [],
   "source": [
    "import pandas as pd\n",
    "%matplotlib inline"
   ]
  },
  {
   "cell_type": "code",
   "execution_count": 125,
   "metadata": {
    "collapsed": false
   },
   "outputs": [
    {
     "data": {
      "text/html": [
       "<div>\n",
       "<table border=\"1\" class=\"dataframe\">\n",
       "  <thead>\n",
       "    <tr style=\"text-align: right;\">\n",
       "      <th></th>\n",
       "      <th>rowID</th>\n",
       "      <th>hpwren_timestamp</th>\n",
       "      <th>air_pressure</th>\n",
       "      <th>air_temp</th>\n",
       "      <th>avg_wind_direction</th>\n",
       "      <th>avg_wind_speed</th>\n",
       "      <th>max_wind_direction</th>\n",
       "      <th>max_wind_speed</th>\n",
       "      <th>min_wind_direction</th>\n",
       "      <th>min_wind_speed</th>\n",
       "      <th>rain_accumulation</th>\n",
       "      <th>rain_duration</th>\n",
       "      <th>relative_humidity</th>\n",
       "    </tr>\n",
       "  </thead>\n",
       "  <tbody>\n",
       "    <tr>\n",
       "      <th>0</th>\n",
       "      <td>0</td>\n",
       "      <td>2011-09-10 00:00:49</td>\n",
       "      <td>912.3</td>\n",
       "      <td>64.76</td>\n",
       "      <td>97.0</td>\n",
       "      <td>1.2</td>\n",
       "      <td>106.0</td>\n",
       "      <td>1.6</td>\n",
       "      <td>85.0</td>\n",
       "      <td>1.0</td>\n",
       "      <td>NaN</td>\n",
       "      <td>NaN</td>\n",
       "      <td>60.5</td>\n",
       "    </tr>\n",
       "    <tr>\n",
       "      <th>1</th>\n",
       "      <td>1</td>\n",
       "      <td>2011-09-10 00:10:49</td>\n",
       "      <td>912.3</td>\n",
       "      <td>62.24</td>\n",
       "      <td>144.0</td>\n",
       "      <td>1.2</td>\n",
       "      <td>167.0</td>\n",
       "      <td>1.8</td>\n",
       "      <td>115.0</td>\n",
       "      <td>0.6</td>\n",
       "      <td>0.0</td>\n",
       "      <td>0.0</td>\n",
       "      <td>38.5</td>\n",
       "    </tr>\n",
       "    <tr>\n",
       "      <th>2</th>\n",
       "      <td>2</td>\n",
       "      <td>2011-09-10 00:20:49</td>\n",
       "      <td>912.2</td>\n",
       "      <td>63.32</td>\n",
       "      <td>100.0</td>\n",
       "      <td>2.0</td>\n",
       "      <td>122.0</td>\n",
       "      <td>2.5</td>\n",
       "      <td>91.0</td>\n",
       "      <td>1.5</td>\n",
       "      <td>0.0</td>\n",
       "      <td>0.0</td>\n",
       "      <td>58.3</td>\n",
       "    </tr>\n",
       "    <tr>\n",
       "      <th>3</th>\n",
       "      <td>3</td>\n",
       "      <td>2011-09-10 00:30:49</td>\n",
       "      <td>912.2</td>\n",
       "      <td>62.60</td>\n",
       "      <td>91.0</td>\n",
       "      <td>2.0</td>\n",
       "      <td>103.0</td>\n",
       "      <td>2.4</td>\n",
       "      <td>71.0</td>\n",
       "      <td>1.4</td>\n",
       "      <td>0.0</td>\n",
       "      <td>0.0</td>\n",
       "      <td>57.9</td>\n",
       "    </tr>\n",
       "    <tr>\n",
       "      <th>4</th>\n",
       "      <td>4</td>\n",
       "      <td>2011-09-10 00:40:49</td>\n",
       "      <td>912.2</td>\n",
       "      <td>64.04</td>\n",
       "      <td>81.0</td>\n",
       "      <td>2.6</td>\n",
       "      <td>88.0</td>\n",
       "      <td>2.9</td>\n",
       "      <td>68.0</td>\n",
       "      <td>1.4</td>\n",
       "      <td>0.0</td>\n",
       "      <td>0.0</td>\n",
       "      <td>57.4</td>\n",
       "    </tr>\n",
       "  </tbody>\n",
       "</table>\n",
       "</div>"
      ],
      "text/plain": [
       "   rowID     hpwren_timestamp  air_pressure  air_temp  avg_wind_direction  \\\n",
       "0      0  2011-09-10 00:00:49         912.3     64.76                97.0   \n",
       "1      1  2011-09-10 00:10:49         912.3     62.24               144.0   \n",
       "2      2  2011-09-10 00:20:49         912.2     63.32               100.0   \n",
       "3      3  2011-09-10 00:30:49         912.2     62.60                91.0   \n",
       "4      4  2011-09-10 00:40:49         912.2     64.04                81.0   \n",
       "\n",
       "   avg_wind_speed  max_wind_direction  max_wind_speed  min_wind_direction  \\\n",
       "0             1.2               106.0             1.6                85.0   \n",
       "1             1.2               167.0             1.8               115.0   \n",
       "2             2.0               122.0             2.5                91.0   \n",
       "3             2.0               103.0             2.4                71.0   \n",
       "4             2.6                88.0             2.9                68.0   \n",
       "\n",
       "   min_wind_speed  rain_accumulation  rain_duration  relative_humidity  \n",
       "0             1.0                NaN            NaN               60.5  \n",
       "1             0.6                0.0            0.0               38.5  \n",
       "2             1.5                0.0            0.0               58.3  \n",
       "3             1.4                0.0            0.0               57.9  \n",
       "4             1.4                0.0            0.0               57.4  "
      ]
     },
     "execution_count": 125,
     "metadata": {},
     "output_type": "execute_result"
    }
   ],
   "source": [
    "df = pd.read_csv('downsampled_weatherdata.csv')\n",
    "df.head()"
   ]
  },
  {
   "cell_type": "code",
   "execution_count": 126,
   "metadata": {
    "collapsed": false
   },
   "outputs": [
    {
     "data": {
      "text/plain": [
       "(158726, 13)"
      ]
     },
     "execution_count": 126,
     "metadata": {},
     "output_type": "execute_result"
    }
   ],
   "source": [
    "df.shape"
   ]
  },
  {
   "cell_type": "code",
   "execution_count": 127,
   "metadata": {
    "collapsed": false,
    "scrolled": true
   },
   "outputs": [
    {
     "data": {
      "text/html": [
       "<div>\n",
       "<table border=\"1\" class=\"dataframe\">\n",
       "  <thead>\n",
       "    <tr style=\"text-align: right;\">\n",
       "      <th></th>\n",
       "      <th>rowID</th>\n",
       "      <th>air_pressure</th>\n",
       "      <th>air_temp</th>\n",
       "      <th>avg_wind_direction</th>\n",
       "      <th>avg_wind_speed</th>\n",
       "      <th>max_wind_direction</th>\n",
       "      <th>max_wind_speed</th>\n",
       "      <th>min_wind_direction</th>\n",
       "      <th>min_wind_speed</th>\n",
       "      <th>rain_accumulation</th>\n",
       "      <th>rain_duration</th>\n",
       "      <th>relative_humidity</th>\n",
       "    </tr>\n",
       "  </thead>\n",
       "  <tbody>\n",
       "    <tr>\n",
       "      <th>count</th>\n",
       "      <td>158726.000000</td>\n",
       "      <td>158726.000000</td>\n",
       "      <td>158726.000000</td>\n",
       "      <td>158680.000000</td>\n",
       "      <td>158680.000000</td>\n",
       "      <td>158680.000000</td>\n",
       "      <td>158680.000000</td>\n",
       "      <td>158680.000000</td>\n",
       "      <td>158680.000000</td>\n",
       "      <td>158725.000000</td>\n",
       "      <td>158725.000000</td>\n",
       "      <td>158726.000000</td>\n",
       "    </tr>\n",
       "    <tr>\n",
       "      <th>mean</th>\n",
       "      <td>79362.500000</td>\n",
       "      <td>916.830161</td>\n",
       "      <td>61.851589</td>\n",
       "      <td>162.156100</td>\n",
       "      <td>2.775215</td>\n",
       "      <td>163.462144</td>\n",
       "      <td>3.400558</td>\n",
       "      <td>166.774017</td>\n",
       "      <td>2.134664</td>\n",
       "      <td>0.000318</td>\n",
       "      <td>0.409627</td>\n",
       "      <td>47.609470</td>\n",
       "    </tr>\n",
       "    <tr>\n",
       "      <th>std</th>\n",
       "      <td>45820.393751</td>\n",
       "      <td>3.051717</td>\n",
       "      <td>11.833569</td>\n",
       "      <td>95.278201</td>\n",
       "      <td>2.057624</td>\n",
       "      <td>92.452139</td>\n",
       "      <td>2.418802</td>\n",
       "      <td>97.441109</td>\n",
       "      <td>1.742113</td>\n",
       "      <td>0.011236</td>\n",
       "      <td>8.665523</td>\n",
       "      <td>26.214409</td>\n",
       "    </tr>\n",
       "    <tr>\n",
       "      <th>min</th>\n",
       "      <td>0.000000</td>\n",
       "      <td>905.000000</td>\n",
       "      <td>31.640000</td>\n",
       "      <td>0.000000</td>\n",
       "      <td>0.000000</td>\n",
       "      <td>0.000000</td>\n",
       "      <td>0.100000</td>\n",
       "      <td>0.000000</td>\n",
       "      <td>0.000000</td>\n",
       "      <td>0.000000</td>\n",
       "      <td>0.000000</td>\n",
       "      <td>0.900000</td>\n",
       "    </tr>\n",
       "    <tr>\n",
       "      <th>25%</th>\n",
       "      <td>39681.250000</td>\n",
       "      <td>914.800000</td>\n",
       "      <td>52.700000</td>\n",
       "      <td>62.000000</td>\n",
       "      <td>1.300000</td>\n",
       "      <td>68.000000</td>\n",
       "      <td>1.600000</td>\n",
       "      <td>76.000000</td>\n",
       "      <td>0.800000</td>\n",
       "      <td>0.000000</td>\n",
       "      <td>0.000000</td>\n",
       "      <td>24.700000</td>\n",
       "    </tr>\n",
       "    <tr>\n",
       "      <th>50%</th>\n",
       "      <td>79362.500000</td>\n",
       "      <td>916.700000</td>\n",
       "      <td>62.240000</td>\n",
       "      <td>182.000000</td>\n",
       "      <td>2.200000</td>\n",
       "      <td>187.000000</td>\n",
       "      <td>2.700000</td>\n",
       "      <td>180.000000</td>\n",
       "      <td>1.600000</td>\n",
       "      <td>0.000000</td>\n",
       "      <td>0.000000</td>\n",
       "      <td>44.700000</td>\n",
       "    </tr>\n",
       "    <tr>\n",
       "      <th>75%</th>\n",
       "      <td>119043.750000</td>\n",
       "      <td>918.700000</td>\n",
       "      <td>70.880000</td>\n",
       "      <td>217.000000</td>\n",
       "      <td>3.800000</td>\n",
       "      <td>223.000000</td>\n",
       "      <td>4.600000</td>\n",
       "      <td>212.000000</td>\n",
       "      <td>3.000000</td>\n",
       "      <td>0.000000</td>\n",
       "      <td>0.000000</td>\n",
       "      <td>68.000000</td>\n",
       "    </tr>\n",
       "    <tr>\n",
       "      <th>max</th>\n",
       "      <td>158725.000000</td>\n",
       "      <td>929.500000</td>\n",
       "      <td>99.500000</td>\n",
       "      <td>359.000000</td>\n",
       "      <td>31.900000</td>\n",
       "      <td>359.000000</td>\n",
       "      <td>36.000000</td>\n",
       "      <td>359.000000</td>\n",
       "      <td>31.600000</td>\n",
       "      <td>3.120000</td>\n",
       "      <td>2960.000000</td>\n",
       "      <td>93.000000</td>\n",
       "    </tr>\n",
       "  </tbody>\n",
       "</table>\n",
       "</div>"
      ],
      "text/plain": [
       "               rowID   air_pressure       air_temp  avg_wind_direction  \\\n",
       "count  158726.000000  158726.000000  158726.000000       158680.000000   \n",
       "mean    79362.500000     916.830161      61.851589          162.156100   \n",
       "std     45820.393751       3.051717      11.833569           95.278201   \n",
       "min         0.000000     905.000000      31.640000            0.000000   \n",
       "25%     39681.250000     914.800000      52.700000           62.000000   \n",
       "50%     79362.500000     916.700000      62.240000          182.000000   \n",
       "75%    119043.750000     918.700000      70.880000          217.000000   \n",
       "max    158725.000000     929.500000      99.500000          359.000000   \n",
       "\n",
       "       avg_wind_speed  max_wind_direction  max_wind_speed  min_wind_direction  \\\n",
       "count   158680.000000       158680.000000   158680.000000       158680.000000   \n",
       "mean         2.775215          163.462144        3.400558          166.774017   \n",
       "std          2.057624           92.452139        2.418802           97.441109   \n",
       "min          0.000000            0.000000        0.100000            0.000000   \n",
       "25%          1.300000           68.000000        1.600000           76.000000   \n",
       "50%          2.200000          187.000000        2.700000          180.000000   \n",
       "75%          3.800000          223.000000        4.600000          212.000000   \n",
       "max         31.900000          359.000000       36.000000          359.000000   \n",
       "\n",
       "       min_wind_speed  rain_accumulation  rain_duration  relative_humidity  \n",
       "count   158680.000000      158725.000000  158725.000000      158726.000000  \n",
       "mean         2.134664           0.000318       0.409627          47.609470  \n",
       "std          1.742113           0.011236       8.665523          26.214409  \n",
       "min          0.000000           0.000000       0.000000           0.900000  \n",
       "25%          0.800000           0.000000       0.000000          24.700000  \n",
       "50%          1.600000           0.000000       0.000000          44.700000  \n",
       "75%          3.000000           0.000000       0.000000          68.000000  \n",
       "max         31.600000           3.120000    2960.000000          93.000000  "
      ]
     },
     "execution_count": 127,
     "metadata": {},
     "output_type": "execute_result"
    }
   ],
   "source": [
    "df.describe()"
   ]
  },
  {
   "cell_type": "code",
   "execution_count": 128,
   "metadata": {
    "collapsed": false
   },
   "outputs": [
    {
     "data": {
      "text/plain": [
       "(157812, 13)"
      ]
     },
     "execution_count": 128,
     "metadata": {},
     "output_type": "execute_result"
    }
   ],
   "source": [
    "df[(df.rain_accumulation == 0.0)].shape \n",
    "\n",
    "# Notice that rain_accumulation is zero for a large # of rows"
   ]
  },
  {
   "cell_type": "code",
   "execution_count": 129,
   "metadata": {
    "collapsed": false
   },
   "outputs": [
    {
     "data": {
      "text/plain": [
       "(157237, 13)"
      ]
     },
     "execution_count": 129,
     "metadata": {},
     "output_type": "execute_result"
    }
   ],
   "source": [
    "df[(df.rain_duration == 0.0)].shape\n",
    "\n",
    "# Notice that rain_duration is zero for a large # of rows"
   ]
  },
  {
   "cell_type": "code",
   "execution_count": 130,
   "metadata": {
    "collapsed": false
   },
   "outputs": [],
   "source": [
    "# Delete columns we don't need for clustering\n",
    "\n",
    "del df['rain_accumulation']\n",
    "del df['rain_duration']\n",
    "del df['hpwren_timestamp']"
   ]
  },
  {
   "cell_type": "code",
   "execution_count": 131,
   "metadata": {
    "collapsed": true
   },
   "outputs": [],
   "source": [
    "workingDF = df.copy(deep=True)"
   ]
  },
  {
   "cell_type": "code",
   "execution_count": 132,
   "metadata": {
    "collapsed": false
   },
   "outputs": [
    {
     "data": {
      "text/plain": [
       "46"
      ]
     },
     "execution_count": 132,
     "metadata": {},
     "output_type": "execute_result"
    }
   ],
   "source": [
    "before = workingDF.shape[0]\n",
    "workingDF = workingDF.dropna()\n",
    "after = workingDF.shape[0]\n",
    "before - after"
   ]
  },
  {
   "cell_type": "code",
   "execution_count": 133,
   "metadata": {
    "collapsed": false
   },
   "outputs": [
    {
     "data": {
      "text/plain": [
       "Index([u'rowID', u'air_pressure', u'air_temp', u'avg_wind_direction',\n",
       "       u'avg_wind_speed', u'max_wind_direction', u'max_wind_speed',\n",
       "       u'min_wind_direction', u'min_wind_speed', u'relative_humidity'],\n",
       "      dtype='object')"
      ]
     },
     "execution_count": 133,
     "metadata": {},
     "output_type": "execute_result"
    }
   ],
   "source": [
    "workingDF.columns"
   ]
  },
  {
   "cell_type": "markdown",
   "metadata": {},
   "source": [
    "# Which features to use for Clustering ?"
   ]
  },
  {
   "cell_type": "code",
   "execution_count": 140,
   "metadata": {
    "collapsed": false
   },
   "outputs": [],
   "source": [
    "featuresUsed = ['air_pressure', 'air_temp', 'avg_wind_direction', 'avg_wind_speed', 'max_wind_direction', \n",
    "        'max_wind_speed','relative_humidity']\n",
    "\n",
    "workingDF = workingDF[featuresUsed]"
   ]
  },
  {
   "cell_type": "code",
   "execution_count": 141,
   "metadata": {
    "collapsed": false
   },
   "outputs": [
    {
     "data": {
      "text/html": [
       "<div>\n",
       "<table border=\"1\" class=\"dataframe\">\n",
       "  <thead>\n",
       "    <tr style=\"text-align: right;\">\n",
       "      <th></th>\n",
       "      <th>air_pressure</th>\n",
       "      <th>air_temp</th>\n",
       "      <th>avg_wind_direction</th>\n",
       "      <th>avg_wind_speed</th>\n",
       "      <th>max_wind_direction</th>\n",
       "      <th>max_wind_speed</th>\n",
       "      <th>relative_humidity</th>\n",
       "    </tr>\n",
       "  </thead>\n",
       "  <tbody>\n",
       "    <tr>\n",
       "      <th>0</th>\n",
       "      <td>912.3</td>\n",
       "      <td>64.76</td>\n",
       "      <td>97.0</td>\n",
       "      <td>1.2</td>\n",
       "      <td>106.0</td>\n",
       "      <td>1.6</td>\n",
       "      <td>60.5</td>\n",
       "    </tr>\n",
       "    <tr>\n",
       "      <th>1</th>\n",
       "      <td>912.3</td>\n",
       "      <td>62.24</td>\n",
       "      <td>144.0</td>\n",
       "      <td>1.2</td>\n",
       "      <td>167.0</td>\n",
       "      <td>1.8</td>\n",
       "      <td>38.5</td>\n",
       "    </tr>\n",
       "    <tr>\n",
       "      <th>2</th>\n",
       "      <td>912.2</td>\n",
       "      <td>63.32</td>\n",
       "      <td>100.0</td>\n",
       "      <td>2.0</td>\n",
       "      <td>122.0</td>\n",
       "      <td>2.5</td>\n",
       "      <td>58.3</td>\n",
       "    </tr>\n",
       "  </tbody>\n",
       "</table>\n",
       "</div>"
      ],
      "text/plain": [
       "   air_pressure  air_temp  avg_wind_direction  avg_wind_speed  \\\n",
       "0         912.3     64.76                97.0             1.2   \n",
       "1         912.3     62.24               144.0             1.2   \n",
       "2         912.2     63.32               100.0             2.0   \n",
       "\n",
       "   max_wind_direction  max_wind_speed  relative_humidity  \n",
       "0               106.0             1.6               60.5  \n",
       "1               167.0             1.8               38.5  \n",
       "2               122.0             2.5               58.3  "
      ]
     },
     "execution_count": 141,
     "metadata": {},
     "output_type": "execute_result"
    }
   ],
   "source": [
    "workingDF.head(3)"
   ]
  },
  {
   "cell_type": "markdown",
   "metadata": {},
   "source": [
    "# KMeans Clustering"
   ]
  },
  {
   "cell_type": "code",
   "execution_count": 142,
   "metadata": {
    "collapsed": false
   },
   "outputs": [],
   "source": [
    "from sklearn.cluster import KMeans\n",
    "kmeans = KMeans(n_clusters=12, random_state=0).fit(workingDF)"
   ]
  },
  {
   "cell_type": "code",
   "execution_count": 143,
   "metadata": {
    "collapsed": false
   },
   "outputs": [],
   "source": [
    "centers = kmeans.cluster_centers_"
   ]
  },
  {
   "cell_type": "code",
   "execution_count": 144,
   "metadata": {
    "collapsed": false,
    "scrolled": true
   },
   "outputs": [
    {
     "data": {
      "text/plain": [
       "array([[ 919.45830679,   63.41059948,   52.31359205,    4.11701419,\n",
       "          69.60705667,    5.09442031,   21.45211893],\n",
       "       [ 916.85724614,   71.58441391,  212.28399558,    2.90772627,\n",
       "         226.5910596 ,    3.49765453,   35.32387417],\n",
       "       [ 917.44910868,   64.59161875,  341.29255319,    1.49305635,\n",
       "          21.09330075,    2.08356814,   42.31345601],\n",
       "       [ 917.37716786,   63.08928401,  324.16666667,    1.52183771,\n",
       "         343.62344206,    2.05625829,   43.28766905],\n",
       "       [ 914.93234392,   49.69422519,  176.19213974,    3.3247197 ,\n",
       "         189.68623864,    3.99207483,   83.08479287],\n",
       "       [ 916.24110683,   66.54174814,  172.75136784,    2.53178312,\n",
       "         186.09404431,    3.00687506,   35.98117768],\n",
       "       [ 915.81834021,   50.93848693,  242.5012991 ,    2.74982424,\n",
       "         265.61134036,    3.56828672,   75.74528504],\n",
       "       [ 917.00921432,   62.41208554,   95.32472369,    1.31970207,\n",
       "         120.37626141,    1.70194618,   46.18816675],\n",
       "       [ 917.57201981,   67.57222577,   18.49455778,    1.78871798,\n",
       "          34.01049338,    2.22221208,   29.7201851 ],\n",
       "       [ 915.20612749,   55.0495633 ,  210.12233959,    4.25713385,\n",
       "         220.64002312,    5.0279258 ,   71.35686584],\n",
       "       [ 917.12541011,   54.22515468,   37.00726632,    1.9132225 ,\n",
       "          54.01156006,    2.3396565 ,   71.74098866],\n",
       "       [ 917.33570327,   67.34452044,  275.82501929,    1.66117254,\n",
       "         300.47145796,    2.24235022,   37.48428902]])"
      ]
     },
     "execution_count": 144,
     "metadata": {},
     "output_type": "execute_result"
    }
   ],
   "source": [
    "centers"
   ]
  },
  {
   "cell_type": "code",
   "execution_count": 145,
   "metadata": {
    "collapsed": false
   },
   "outputs": [
    {
     "data": {
      "text/html": [
       "<div>\n",
       "<table border=\"1\" class=\"dataframe\">\n",
       "  <thead>\n",
       "    <tr style=\"text-align: right;\">\n",
       "      <th></th>\n",
       "      <th>air_pressure</th>\n",
       "      <th>air_temp</th>\n",
       "      <th>avg_wind_direction</th>\n",
       "      <th>avg_wind_speed</th>\n",
       "      <th>max_wind_direction</th>\n",
       "      <th>max_wind_speed</th>\n",
       "      <th>relative_humidity</th>\n",
       "      <th>prediction</th>\n",
       "    </tr>\n",
       "  </thead>\n",
       "  <tbody>\n",
       "    <tr>\n",
       "      <th>0</th>\n",
       "      <td>919.458307</td>\n",
       "      <td>63.410599</td>\n",
       "      <td>52.313592</td>\n",
       "      <td>4.117014</td>\n",
       "      <td>69.607057</td>\n",
       "      <td>5.094420</td>\n",
       "      <td>21.452119</td>\n",
       "      <td>0</td>\n",
       "    </tr>\n",
       "    <tr>\n",
       "      <th>1</th>\n",
       "      <td>916.857246</td>\n",
       "      <td>71.584414</td>\n",
       "      <td>212.283996</td>\n",
       "      <td>2.907726</td>\n",
       "      <td>226.591060</td>\n",
       "      <td>3.497655</td>\n",
       "      <td>35.323874</td>\n",
       "      <td>1</td>\n",
       "    </tr>\n",
       "    <tr>\n",
       "      <th>2</th>\n",
       "      <td>917.449109</td>\n",
       "      <td>64.591619</td>\n",
       "      <td>341.292553</td>\n",
       "      <td>1.493056</td>\n",
       "      <td>21.093301</td>\n",
       "      <td>2.083568</td>\n",
       "      <td>42.313456</td>\n",
       "      <td>2</td>\n",
       "    </tr>\n",
       "    <tr>\n",
       "      <th>3</th>\n",
       "      <td>917.377168</td>\n",
       "      <td>63.089284</td>\n",
       "      <td>324.166667</td>\n",
       "      <td>1.521838</td>\n",
       "      <td>343.623442</td>\n",
       "      <td>2.056258</td>\n",
       "      <td>43.287669</td>\n",
       "      <td>3</td>\n",
       "    </tr>\n",
       "    <tr>\n",
       "      <th>4</th>\n",
       "      <td>914.932344</td>\n",
       "      <td>49.694225</td>\n",
       "      <td>176.192140</td>\n",
       "      <td>3.324720</td>\n",
       "      <td>189.686239</td>\n",
       "      <td>3.992075</td>\n",
       "      <td>83.084793</td>\n",
       "      <td>4</td>\n",
       "    </tr>\n",
       "    <tr>\n",
       "      <th>5</th>\n",
       "      <td>916.241107</td>\n",
       "      <td>66.541748</td>\n",
       "      <td>172.751368</td>\n",
       "      <td>2.531783</td>\n",
       "      <td>186.094044</td>\n",
       "      <td>3.006875</td>\n",
       "      <td>35.981178</td>\n",
       "      <td>5</td>\n",
       "    </tr>\n",
       "    <tr>\n",
       "      <th>6</th>\n",
       "      <td>915.818340</td>\n",
       "      <td>50.938487</td>\n",
       "      <td>242.501299</td>\n",
       "      <td>2.749824</td>\n",
       "      <td>265.611340</td>\n",
       "      <td>3.568287</td>\n",
       "      <td>75.745285</td>\n",
       "      <td>6</td>\n",
       "    </tr>\n",
       "    <tr>\n",
       "      <th>7</th>\n",
       "      <td>917.009214</td>\n",
       "      <td>62.412086</td>\n",
       "      <td>95.324724</td>\n",
       "      <td>1.319702</td>\n",
       "      <td>120.376261</td>\n",
       "      <td>1.701946</td>\n",
       "      <td>46.188167</td>\n",
       "      <td>7</td>\n",
       "    </tr>\n",
       "    <tr>\n",
       "      <th>8</th>\n",
       "      <td>917.572020</td>\n",
       "      <td>67.572226</td>\n",
       "      <td>18.494558</td>\n",
       "      <td>1.788718</td>\n",
       "      <td>34.010493</td>\n",
       "      <td>2.222212</td>\n",
       "      <td>29.720185</td>\n",
       "      <td>8</td>\n",
       "    </tr>\n",
       "    <tr>\n",
       "      <th>9</th>\n",
       "      <td>915.206127</td>\n",
       "      <td>55.049563</td>\n",
       "      <td>210.122340</td>\n",
       "      <td>4.257134</td>\n",
       "      <td>220.640023</td>\n",
       "      <td>5.027926</td>\n",
       "      <td>71.356866</td>\n",
       "      <td>9</td>\n",
       "    </tr>\n",
       "    <tr>\n",
       "      <th>10</th>\n",
       "      <td>917.125410</td>\n",
       "      <td>54.225155</td>\n",
       "      <td>37.007266</td>\n",
       "      <td>1.913223</td>\n",
       "      <td>54.011560</td>\n",
       "      <td>2.339657</td>\n",
       "      <td>71.740989</td>\n",
       "      <td>10</td>\n",
       "    </tr>\n",
       "    <tr>\n",
       "      <th>11</th>\n",
       "      <td>917.335703</td>\n",
       "      <td>67.344520</td>\n",
       "      <td>275.825019</td>\n",
       "      <td>1.661173</td>\n",
       "      <td>300.471458</td>\n",
       "      <td>2.242350</td>\n",
       "      <td>37.484289</td>\n",
       "      <td>11</td>\n",
       "    </tr>\n",
       "  </tbody>\n",
       "</table>\n",
       "</div>"
      ],
      "text/plain": [
       "    air_pressure   air_temp  avg_wind_direction  avg_wind_speed  \\\n",
       "0     919.458307  63.410599           52.313592        4.117014   \n",
       "1     916.857246  71.584414          212.283996        2.907726   \n",
       "2     917.449109  64.591619          341.292553        1.493056   \n",
       "3     917.377168  63.089284          324.166667        1.521838   \n",
       "4     914.932344  49.694225          176.192140        3.324720   \n",
       "5     916.241107  66.541748          172.751368        2.531783   \n",
       "6     915.818340  50.938487          242.501299        2.749824   \n",
       "7     917.009214  62.412086           95.324724        1.319702   \n",
       "8     917.572020  67.572226           18.494558        1.788718   \n",
       "9     915.206127  55.049563          210.122340        4.257134   \n",
       "10    917.125410  54.225155           37.007266        1.913223   \n",
       "11    917.335703  67.344520          275.825019        1.661173   \n",
       "\n",
       "    max_wind_direction  max_wind_speed  relative_humidity  prediction  \n",
       "0            69.607057        5.094420          21.452119           0  \n",
       "1           226.591060        3.497655          35.323874           1  \n",
       "2            21.093301        2.083568          42.313456           2  \n",
       "3           343.623442        2.056258          43.287669           3  \n",
       "4           189.686239        3.992075          83.084793           4  \n",
       "5           186.094044        3.006875          35.981178           5  \n",
       "6           265.611340        3.568287          75.745285           6  \n",
       "7           120.376261        1.701946          46.188167           7  \n",
       "8            34.010493        2.222212          29.720185           8  \n",
       "9           220.640023        5.027926          71.356866           9  \n",
       "10           54.011560        2.339657          71.740989          10  \n",
       "11          300.471458        2.242350          37.484289          11  "
      ]
     },
     "execution_count": 145,
     "metadata": {},
     "output_type": "execute_result"
    }
   ],
   "source": [
    "import numpy as np\n",
    "\n",
    "# Function to keep centers (0,1,2,....) and features together \n",
    "\n",
    "def pd_centers(featuresUsed, centers):\n",
    "\tcolNames = list(featuresUsed)\n",
    "\tcolNames.append('prediction')\n",
    "\n",
    "\t# Zip with a column called 'prediction' (index)\n",
    "\tZ = [np.append(A, index) for index, A in enumerate(centers)]\n",
    "\n",
    "\t# Convert to pandas for plotting\n",
    "\tP = pd.DataFrame(Z, columns=colNames)\n",
    "\tP['prediction'] = P['prediction'].astype(int)\n",
    "\treturn P\n",
    "\n",
    "P = pd_centers(featuresUsed, centers)\n",
    "P"
   ]
  },
  {
   "cell_type": "code",
   "execution_count": 146,
   "metadata": {
    "collapsed": true
   },
   "outputs": [],
   "source": [
    "from itertools import cycle, islice\n",
    "import matplotlib.pyplot as plt\n",
    "from pandas.tools.plotting import parallel_coordinates\n",
    "\n",
    "#Function to help plot the centers on a Parallel Plot\n",
    "\n",
    "def parallel_plot(data, P):\n",
    "\tmy_colors = list(islice(cycle(['b', 'r', 'g', 'y', 'k']), None, len(P)))\n",
    "\tplt.figure(figsize=(15,8)) #.gca().axes.set_ylim([-3,+3])\n",
    "\tparallel_coordinates(data, 'prediction', color = my_colors, marker='o')"
   ]
  },
  {
   "cell_type": "markdown",
   "metadata": {},
   "source": [
    "## Dry Days"
   ]
  },
  {
   "cell_type": "code",
   "execution_count": 147,
   "metadata": {
    "collapsed": false
   },
   "outputs": [
    {
     "data": {
      "image/png": "[encoded data removed]",
      "text/plain": [
       "<matplotlib.figure.Figure at 0x7f0194f6e150>"
      ]
     },
     "metadata": {},
     "output_type": "display_data"
    }
   ],
   "source": [
    "parallel_plot(P[P['relative_humidity'] < 30.0], P)"
   ]
  },
  {
   "cell_type": "markdown",
   "metadata": {},
   "source": [
    "## Warm Days"
   ]
  },
  {
   "cell_type": "code",
   "execution_count": 148,
   "metadata": {
    "collapsed": false
   },
   "outputs": [
    {
     "data": {
      "image/png": "[encoded data removed]",
      "text/plain": [
       "<matplotlib.figure.Figure at 0x7f0194fb4ed0>"
      ]
     },
     "metadata": {},
     "output_type": "display_data"
    }
   ],
   "source": [
    "parallel_plot(P[P['air_temp'] > 60.0], P)"
   ]
  },
  {
   "cell_type": "markdown",
   "metadata": {},
   "source": [
    "## Cool Days"
   ]
  },
  {
   "cell_type": "code",
   "execution_count": 149,
   "metadata": {
    "collapsed": false
   },
   "outputs": [
    {
     "data": {
      "image/png": "[encoded data removed]",
      "text/plain": [
       "<matplotlib.figure.Figure at 0x7f01b7443350>"
      ]
     },
     "metadata": {},
     "output_type": "display_data"
    }
   ],
   "source": [
    "parallel_plot(P[(P['relative_humidity'] > 30) & (P['air_temp'] < 60)], P)"
   ]
  },
  {
   "cell_type": "code",
   "execution_count": null,
   "metadata": {
    "collapsed": true
   },
   "outputs": [],
   "source": []
  }
 ],
 "metadata": {
  "kernelspec": {
   "display_name": "Python 2",
   "language": "python",
   "name": "python2"
  },
  "language_info": {
   "codemirror_mode": {
    "name": "ipython",
    "version": 2
   },
   "file_extension": ".py",
   "mimetype": "text/x-python",
   "name": "python",
   "nbconvert_exporter": "python",
   "pygments_lexer": "ipython2",
   "version": "2.7.11"
  }
 },
 "nbformat": 4,
 "nbformat_minor": 0
}
